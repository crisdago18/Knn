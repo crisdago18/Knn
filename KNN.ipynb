{
  "nbformat": 4,
  "nbformat_minor": 0,
  "metadata": {
    "colab": {
      "provenance": [],
      "authorship_tag": "ABX9TyPAdDpKMa2/owcxjYusK3dm",
      "include_colab_link": true
    },
    "kernelspec": {
      "name": "python3",
      "display_name": "Python 3"
    },
    "language_info": {
      "name": "python"
    }
  },
  "cells": [
    {
      "cell_type": "markdown",
      "metadata": {
        "id": "view-in-github",
        "colab_type": "text"
      },
      "source": [
        "<a href=\"https://colab.research.google.com/github/crisdago18/Knn/blob/main/KNN.ipynb\" target=\"_parent\"><img src=\"https://colab.research.google.com/assets/colab-badge.svg\" alt=\"Open In Colab\"/></a>"
      ]
    },
    {
      "cell_type": "code",
      "execution_count": null,
      "metadata": {
        "id": "EYs14EJcJBAl"
      },
      "outputs": [],
      "source": [
        "import pandas as pd\n",
        "import numpy as np\n",
        "import matplotlib.pyplot as plt\n",
        "from sklearn import preprocessing\n",
        "from sklearn.neighbors import KNeighborsClassifier\n",
        "\n",
        "clientes = pd.read_csv(\"creditos.csv\")\n",
        "clientes"
      ]
    },
    {
      "cell_type": "code",
      "source": [
        "buenos = clientes[clientes[\"cumplio\"]==1]\n",
        "malos = clientes[clientes[\"cumplio\"]==0]"
      ],
      "metadata": {
        "id": "O2mIGsKVJwAE"
      },
      "execution_count": null,
      "outputs": []
    },
    {
      "cell_type": "code",
      "source": [
        "plt.scatter(buenos[\"edad\"], buenos[\"credito\"],\n",
        "            marker=\"*\", s=150, color=\"skyblue\",\n",
        "            label=\"Sí pagó (Clase: 1)\")\n",
        "\n",
        "plt.scatter(malos[\"edad\"], malos[\"credito\"],\n",
        "            marker=\"*\", s=150, color=\"red\",\n",
        "            label=\"No pagó (Clase: 0)\")\n",
        "\n",
        "plt.ylabel(\"Monto del crédito\")\n",
        "plt.xlabel(\"Edad\")\n",
        "plt.legend(bbox_to_anchor=(1, 0.2))\n",
        "plt.show()"
      ],
      "metadata": {
        "id": "-UwUb1MVJy6F"
      },
      "execution_count": null,
      "outputs": []
    },
    {
      "cell_type": "code",
      "source": [
        "datos = clientes[[\"edad\", \"credito\"]]\n",
        "clase = clientes[\"cumplio\"]\n",
        "\n",
        "escalador = preprocessing.MinMaxScaler()\n",
        "\n",
        "datos = escalador.fit_transform(datos)"
      ],
      "metadata": {
        "id": "GI1ratJEKMzM"
      },
      "execution_count": null,
      "outputs": []
    },
    {
      "cell_type": "code",
      "source": [
        "clasificador = KNeighborsClassifier(n_neighbors=3)\n",
        "\n",
        "clasificador.fit(datos, clase)"
      ],
      "metadata": {
        "id": "qu9Lvfx-KQ7f"
      },
      "execution_count": null,
      "outputs": []
    },
    {
      "cell_type": "code",
      "source": [
        "edad = 53\n",
        "monto = 350000\n",
        "\n",
        "#Escalar los datos del nuevo solicitante\n",
        "solicitante = escalador.transform([[edad, monto]])\n",
        "\n",
        "#Calcular clase y probabilidades\n",
        "print(\"Clase:\", clasificador.predict(solicitante))\n",
        "print(\"Probabilidades por clase\",\n",
        "      clasificador.predict_proba(solicitante))\n",
        "\n",
        "#Código para graficar\n",
        "plt.scatter(buenos[\"edad\"], buenos[\"credito\"],\n",
        "            marker=\"*\", s=150, color=\"skyblue\", label=\"Sí pagó (Clase: 1)\")\n",
        "plt.scatter(malos[\"edad\"], malos[\"credito\"],\n",
        "            marker=\"*\", s=150, color=\"red\", label=\"No pagó (Clase: 0)\")\n",
        "plt.scatter(edad, monto, marker=\"P\", s=250, color=\"green\", label=\"Solicitante\")\n",
        "plt.ylabel(\"Monto del crédito\")\n",
        "plt.xlabel(\"Edad\")\n",
        "plt.legend(bbox_to_anchor=(1, 0.3))\n",
        "plt.show()"
      ],
      "metadata": {
        "id": "htFwmVLHKVwD"
      },
      "execution_count": null,
      "outputs": []
    },
    {
      "cell_type": "code",
      "source": [
        "#Datos sinténticos de todos los posibles solicitantes\n",
        "creditos = np.array([np.arange(100000, 600010, 1000)]*43).reshape(1, -1)\n",
        "edades = np.array([np.arange(18, 61)]*501).reshape(1, -1)\n",
        "todos = pd.DataFrame(np.stack((edades, creditos), axis=2)[0],\n",
        "                     columns=[\"edad\", \"credito\"])\n",
        "\n",
        "#Escalar los datos\n",
        "solicitantes = escalador.transform(todos)\n",
        "\n",
        "#Predecir todas las clases\n",
        "clases_resultantes = clasificador.predict(solicitantes)\n",
        "\n",
        "#Código para graficar\n",
        "buenos = todos[clases_resultantes==1]\n",
        "malos = todos[clases_resultantes==0]\n",
        "plt.scatter(buenos[\"edad\"], buenos[\"credito\"],\n",
        "            marker=\"*\", s=150, color=\"skyblue\", label=\"Sí pagará (Clase: 1)\")\n",
        "plt.scatter(malos[\"edad\"], malos[\"credito\"],\n",
        "            marker=\"*\", s=150, color=\"red\", label=\"No pagará (Clase: 0)\")\n",
        "plt.ylabel(\"Monto del crédito\")\n",
        "plt.xlabel(\"Edad\")\n",
        "plt.legend(bbox_to_anchor=(1, 0.2))\n",
        "plt.show()"
      ],
      "metadata": {
        "id": "YQfWmPi7KbX5"
      },
      "execution_count": null,
      "outputs": []
    }
  ]
}